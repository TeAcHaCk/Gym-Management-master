{
 "cells": [
  {
   "cell_type": "markdown",
   "id": "82617bac",
   "metadata": {},
   "source": [
    "SRN : PES1UG21CS807\n",
    "NAME  : BHAVANA S\n",
    "SECTION : 'C'"
   ]
  },
  {
   "cell_type": "code",
   "execution_count": null,
   "id": "f25c8cf4",
   "metadata": {},
   "outputs": [],
   "source": [
    "import numpy as np\n",
    "import pandas as pd\n",
    "import seaborn as sns\n",
    "\n",
    "import sklearn as sk\n",
    "import tensorflow as tf\n",
    "\n",
    "from hmac import trans_36\n",
    "from sklearn.preprocessing import StandardScaler,MinMaxScaler\n",
    "from sklearn.model_selection import train_test_split\n",
    "\n",
    "from sklearn.tree import DecisionTreeClassifier\n",
    "from sklearn.svm import LinearSVC\n",
    "from sklearn.neural_network import MLPClassifier\n",
    "from sklearn.metrics import classification_report, confusion_matrix\n",
    "\n",
    "from time import time\n",
    "from datetime import datetime\n",
    "from random import triangular"
   ]
  },
  {
   "cell_type": "code",
   "execution_count": 1,
   "id": "282b2714",
   "metadata": {},
   "outputs": [
    {
     "ename": "NameError",
     "evalue": "name 'pd' is not defined",
     "output_type": "error",
     "traceback": [
      "\u001b[1;31m---------------------------------------------------------------------------\u001b[0m",
      "\u001b[1;31mNameError\u001b[0m                                 Traceback (most recent call last)",
      "Cell \u001b[1;32mIn [1], line 1\u001b[0m\n\u001b[1;32m----> 1\u001b[0m df \u001b[39m=\u001b[39m pd\u001b[39m.\u001b[39mread_excel(\u001b[39m'\u001b[39m\u001b[39mMI_Assignment1_2_Online Retail (1).xlsx\u001b[39m\u001b[39m'\u001b[39m)\n\u001b[0;32m      2\u001b[0m df\u001b[39m.\u001b[39mhead()\n",
      "\u001b[1;31mNameError\u001b[0m: name 'pd' is not defined"
     ]
    }
   ],
   "source": [
    " my_df= pd.read_csv(r'/content/drive/MyDrive/Bhavanii/MI_assignment_online_retail.csv')\n",
    "my_df.head()"
   ]
  },
  {
   "cell_type": "code",
   "execution_count": 48,
   "id": "b3bdea5a",
   "metadata": {},
   "outputs": [
    {
     "data": {
      "text/plain": [
       "InvoiceNo              object\n",
       "StockCode              object\n",
       "Description            object\n",
       "Quantity              float64\n",
       "InvoiceDate    datetime64[ns]\n",
       "UnitPrice             float64\n",
       "CustomerID            float64\n",
       "Country                object\n",
       "dtype: object"
      ]
     },
     "execution_count": 48,
     "metadata": {},
     "output_type": "execute_result"
    }
   ],
   "source": [
    "my_df.dtypes"
   ]
  },
  {
   "cell_type": "code",
   "execution_count": null,
   "id": "9b7049fb",
   "metadata": {},
   "outputs": [],
   "source": [
    "my_df.info()"
   ]
  },
  {
   "cell_type": "code",
   "execution_count": null,
   "id": "8917c12b",
   "metadata": {},
   "outputs": [],
   "source": [
    "my_df.describe()"
   ]
  },
  {
   "cell_type": "code",
   "execution_count": null,
   "id": "83ed434a",
   "metadata": {},
   "outputs": [],
   "source": [
    "\n",
    "print (\"Unique customers stock data in the data: %d\"%len(my_df.StockCode.unique()))"
   ]
  },
  {
   "cell_type": "code",
   "execution_count": 49,
   "id": "02ac4765",
   "metadata": {},
   "outputs": [
    {
     "data": {
      "text/plain": [
       "InvoiceNo           0\n",
       "StockCode           0\n",
       "Description      1454\n",
       "Quantity            0\n",
       "InvoiceDate         0\n",
       "UnitPrice           0\n",
       "CustomerID     135080\n",
       "Country             0\n",
       "dtype: int64"
      ]
     },
     "execution_count": 49,
     "metadata": {},
     "output_type": "execute_result"
    }
   ],
   "source": [
    "\n",
    "my_df.isnull().sum()"
   ]
  },
  {
   "cell_type": "code",
   "execution_count": 50,
   "id": "a9788302",
   "metadata": {},
   "outputs": [
    {
     "data": {
      "text/plain": [
       "InvoiceNo      0\n",
       "StockCode      0\n",
       "Description    0\n",
       "Quantity       0\n",
       "InvoiceDate    0\n",
       "UnitPrice      0\n",
       "CustomerID     0\n",
       "Country        0\n",
       "dtype: int64"
      ]
     },
     "execution_count": 50,
     "metadata": {},
     "output_type": "execute_result"
    }
   ],
   "source": [
    "#null values -> boolean \n",
    "my_df=my_df[my_df['CustomerID'].notna()]\n",
    "my_df.isnull().sum()"
   ]
  },
  {
   "cell_type": "code",
   "execution_count": 51,
   "id": "f5af1f6c",
   "metadata": {},
   "outputs": [
    {
     "data": {
      "text/html": [
       "<div>\n",
       "<style scoped>\n",
       "    .dataframe tbody tr th:only-of-type {\n",
       "        vertical-align: middle;\n",
       "    }\n",
       "\n",
       "    .dataframe tbody tr th {\n",
       "        vertical-align: top;\n",
       "    }\n",
       "\n",
       "    .dataframe thead th {\n",
       "        text-align: right;\n",
       "    }\n",
       "</style>\n",
       "<table border=\"1\" class=\"dataframe\">\n",
       "  <thead>\n",
       "    <tr style=\"text-align: right;\">\n",
       "      <th></th>\n",
       "      <th>InvoiceNo</th>\n",
       "      <th>StockCode</th>\n",
       "      <th>Description</th>\n",
       "      <th>Quantity</th>\n",
       "      <th>InvoiceDate</th>\n",
       "      <th>UnitPrice</th>\n",
       "      <th>CustomerID</th>\n",
       "      <th>Country</th>\n",
       "    </tr>\n",
       "  </thead>\n",
       "  <tbody>\n",
       "    <tr>\n",
       "      <th>0</th>\n",
       "      <td>536365.0</td>\n",
       "      <td>85123A</td>\n",
       "      <td>WHITE HANGING HEART T-LIGHT HOLDER</td>\n",
       "      <td>6.0</td>\n",
       "      <td>2010-12-01 08:26:00</td>\n",
       "      <td>2.55</td>\n",
       "      <td>17850.0</td>\n",
       "      <td>United Kingdom</td>\n",
       "    </tr>\n",
       "    <tr>\n",
       "      <th>1</th>\n",
       "      <td>536365.0</td>\n",
       "      <td>71053.0</td>\n",
       "      <td>WHITE METAL LANTERN</td>\n",
       "      <td>6.0</td>\n",
       "      <td>2010-12-01 08:26:00</td>\n",
       "      <td>3.39</td>\n",
       "      <td>17850.0</td>\n",
       "      <td>United Kingdom</td>\n",
       "    </tr>\n",
       "    <tr>\n",
       "      <th>2</th>\n",
       "      <td>536365.0</td>\n",
       "      <td>84406B</td>\n",
       "      <td>CREAM CUPID HEARTS COAT HANGER</td>\n",
       "      <td>8.0</td>\n",
       "      <td>2010-12-01 08:26:00</td>\n",
       "      <td>2.75</td>\n",
       "      <td>17850.0</td>\n",
       "      <td>United Kingdom</td>\n",
       "    </tr>\n",
       "    <tr>\n",
       "      <th>3</th>\n",
       "      <td>536365.0</td>\n",
       "      <td>84029G</td>\n",
       "      <td>KNITTED UNION FLAG HOT WATER BOTTLE</td>\n",
       "      <td>6.0</td>\n",
       "      <td>2010-12-01 08:26:00</td>\n",
       "      <td>3.39</td>\n",
       "      <td>17850.0</td>\n",
       "      <td>United Kingdom</td>\n",
       "    </tr>\n",
       "    <tr>\n",
       "      <th>4</th>\n",
       "      <td>536365.0</td>\n",
       "      <td>84029E</td>\n",
       "      <td>RED WOOLLY HOTTIE WHITE HEART.</td>\n",
       "      <td>6.0</td>\n",
       "      <td>2010-12-01 08:26:00</td>\n",
       "      <td>3.39</td>\n",
       "      <td>17850.0</td>\n",
       "      <td>United Kingdom</td>\n",
       "    </tr>\n",
       "  </tbody>\n",
       "</table>\n",
       "</div>"
      ],
      "text/plain": [
       "  InvoiceNo StockCode                          Description  Quantity  \\\n",
       "0  536365.0    85123A   WHITE HANGING HEART T-LIGHT HOLDER       6.0   \n",
       "1  536365.0   71053.0                  WHITE METAL LANTERN       6.0   \n",
       "2  536365.0    84406B       CREAM CUPID HEARTS COAT HANGER       8.0   \n",
       "3  536365.0    84029G  KNITTED UNION FLAG HOT WATER BOTTLE       6.0   \n",
       "4  536365.0    84029E       RED WOOLLY HOTTIE WHITE HEART.       6.0   \n",
       "\n",
       "          InvoiceDate  UnitPrice  CustomerID         Country  \n",
       "0 2010-12-01 08:26:00       2.55     17850.0  United Kingdom  \n",
       "1 2010-12-01 08:26:00       3.39     17850.0  United Kingdom  \n",
       "2 2010-12-01 08:26:00       2.75     17850.0  United Kingdom  \n",
       "3 2010-12-01 08:26:00       3.39     17850.0  United Kingdom  \n",
       "4 2010-12-01 08:26:00       3.39     17850.0  United Kingdom  "
      ]
     },
     "execution_count": 51,
     "metadata": {},
     "output_type": "execute_result"
    }
   ],
   "source": [
    "#training data\n",
    "start=pd.Timestamp(2010,12,1)\n",
    "end=pd.Timestamp(2011,8,31)\n",
    "train=my_df[my_df['InvoiceDate']>=start]\n",
    "train=train[train['InvoiceDate']<=end]\n",
    "train.head()"
   ]
  },
  {
   "cell_type": "code",
   "execution_count": 3,
   "id": "71f36541",
   "metadata": {},
   "outputs": [
    {
     "ename": "NameError",
     "evalue": "name 'df' is not defined",
     "output_type": "error",
     "traceback": [
      "\u001b[1;31m---------------------------------------------------------------------------\u001b[0m",
      "\u001b[1;31mNameError\u001b[0m                                 Traceback (most recent call last)",
      "Cell \u001b[1;32mIn [3], line 4\u001b[0m\n\u001b[0;32m      2\u001b[0m start_date\u001b[39m=\u001b[39mpd\u001b[39m.\u001b[39mTimestamp(\u001b[39m2011\u001b[39m,\u001b[39m9\u001b[39m,\u001b[39m1\u001b[39m)\n\u001b[0;32m      3\u001b[0m end_date\u001b[39m=\u001b[39mpd\u001b[39m.\u001b[39mTimestamp(\u001b[39m2011\u001b[39m,\u001b[39m12\u001b[39m,\u001b[39m31\u001b[39m)\n\u001b[1;32m----> 4\u001b[0m churn\u001b[39m=\u001b[39mdf[df[\u001b[39m'\u001b[39m\u001b[39mInvoiceDate\u001b[39m\u001b[39m'\u001b[39m]\u001b[39m>\u001b[39m\u001b[39m=\u001b[39mstart_date]\n\u001b[0;32m      5\u001b[0m churn\u001b[39m=\u001b[39mchurn[churn[\u001b[39m'\u001b[39m\u001b[39mInvoiceDate\u001b[39m\u001b[39m'\u001b[39m]\u001b[39m<\u001b[39m\u001b[39m=\u001b[39mend_date]\n\u001b[0;32m      6\u001b[0m churn\u001b[39m.\u001b[39mhead()\n",
      "\u001b[1;31mNameError\u001b[0m: name 'df' is not defined"
     ]
    }
   ],
   "source": [
    "#labelling the customers who have not made purchase in given period as churn and notchurn for those who made\n",
    "start_date=pd.Timestamp(2011,9,1)\n",
    "end_date=pd.Timestamp(2011,12,31)\n",
    "churn=my_df[my_df['InvoiceDate']>=start_date]\n",
    "churn=churn[churn['InvoiceDate']<=end_date]\n",
    "churn.head()"
   ]
  },
  {
   "cell_type": "code",
   "execution_count": 53,
   "id": "0b9fc12a",
   "metadata": {},
   "outputs": [],
   "source": [
    "training_unique=train['CustomerID'].unique()\n",
    "churn_unique=churn['CustomerID'].unique()\n",
    "\n",
    "ischurnlis=[]\n",
    "for id in training_unique:\n",
    "    if id in churn_unique:\n",
    "        ischurnlis.append(id)"
   ]
  },
  {
   "cell_type": "markdown",
   "id": "2eef57ec",
   "metadata": {},
   "source": []
  },
  {
   "cell_type": "code",
   "execution_count": 54,
   "id": "f03acbaf",
   "metadata": {},
   "outputs": [
    {
     "data": {
      "text/html": [
       "<div>\n",
       "<style scoped>\n",
       "    .dataframe tbody tr th:only-of-type {\n",
       "        vertical-align: middle;\n",
       "    }\n",
       "\n",
       "    .dataframe tbody tr th {\n",
       "        vertical-align: top;\n",
       "    }\n",
       "\n",
       "    .dataframe thead th {\n",
       "        text-align: right;\n",
       "    }\n",
       "</style>\n",
       "<table border=\"1\" class=\"dataframe\">\n",
       "  <thead>\n",
       "    <tr style=\"text-align: right;\">\n",
       "      <th></th>\n",
       "      <th>InvoiceNo</th>\n",
       "      <th>StockCode</th>\n",
       "      <th>Description</th>\n",
       "      <th>Quantity</th>\n",
       "      <th>InvoiceDate</th>\n",
       "      <th>UnitPrice</th>\n",
       "      <th>CustomerID</th>\n",
       "      <th>Country</th>\n",
       "      <th>isChurn</th>\n",
       "    </tr>\n",
       "  </thead>\n",
       "  <tbody>\n",
       "    <tr>\n",
       "      <th>0</th>\n",
       "      <td>536365.0</td>\n",
       "      <td>85123A</td>\n",
       "      <td>WHITE HANGING HEART T-LIGHT HOLDER</td>\n",
       "      <td>6.0</td>\n",
       "      <td>2010-12-01 08:26:00</td>\n",
       "      <td>2.55</td>\n",
       "      <td>17850.0</td>\n",
       "      <td>United Kingdom</td>\n",
       "      <td>0</td>\n",
       "    </tr>\n",
       "    <tr>\n",
       "      <th>1</th>\n",
       "      <td>536365.0</td>\n",
       "      <td>71053.0</td>\n",
       "      <td>WHITE METAL LANTERN</td>\n",
       "      <td>6.0</td>\n",
       "      <td>2010-12-01 08:26:00</td>\n",
       "      <td>3.39</td>\n",
       "      <td>17850.0</td>\n",
       "      <td>United Kingdom</td>\n",
       "      <td>0</td>\n",
       "    </tr>\n",
       "    <tr>\n",
       "      <th>2</th>\n",
       "      <td>536365.0</td>\n",
       "      <td>84406B</td>\n",
       "      <td>CREAM CUPID HEARTS COAT HANGER</td>\n",
       "      <td>8.0</td>\n",
       "      <td>2010-12-01 08:26:00</td>\n",
       "      <td>2.75</td>\n",
       "      <td>17850.0</td>\n",
       "      <td>United Kingdom</td>\n",
       "      <td>0</td>\n",
       "    </tr>\n",
       "    <tr>\n",
       "      <th>3</th>\n",
       "      <td>536365.0</td>\n",
       "      <td>84029G</td>\n",
       "      <td>KNITTED UNION FLAG HOT WATER BOTTLE</td>\n",
       "      <td>6.0</td>\n",
       "      <td>2010-12-01 08:26:00</td>\n",
       "      <td>3.39</td>\n",
       "      <td>17850.0</td>\n",
       "      <td>United Kingdom</td>\n",
       "      <td>0</td>\n",
       "    </tr>\n",
       "    <tr>\n",
       "      <th>4</th>\n",
       "      <td>536365.0</td>\n",
       "      <td>84029E</td>\n",
       "      <td>RED WOOLLY HOTTIE WHITE HEART.</td>\n",
       "      <td>6.0</td>\n",
       "      <td>2010-12-01 08:26:00</td>\n",
       "      <td>3.39</td>\n",
       "      <td>17850.0</td>\n",
       "      <td>United Kingdom</td>\n",
       "      <td>0</td>\n",
       "    </tr>\n",
       "  </tbody>\n",
       "</table>\n",
       "</div>"
      ],
      "text/plain": [
       "  InvoiceNo StockCode                          Description  Quantity  \\\n",
       "0  536365.0    85123A   WHITE HANGING HEART T-LIGHT HOLDER       6.0   \n",
       "1  536365.0   71053.0                  WHITE METAL LANTERN       6.0   \n",
       "2  536365.0    84406B       CREAM CUPID HEARTS COAT HANGER       8.0   \n",
       "3  536365.0    84029G  KNITTED UNION FLAG HOT WATER BOTTLE       6.0   \n",
       "4  536365.0    84029E       RED WOOLLY HOTTIE WHITE HEART.       6.0   \n",
       "\n",
       "          InvoiceDate  UnitPrice  CustomerID         Country  isChurn  \n",
       "0 2010-12-01 08:26:00       2.55     17850.0  United Kingdom        0  \n",
       "1 2010-12-01 08:26:00       3.39     17850.0  United Kingdom        0  \n",
       "2 2010-12-01 08:26:00       2.75     17850.0  United Kingdom        0  \n",
       "3 2010-12-01 08:26:00       3.39     17850.0  United Kingdom        0  \n",
       "4 2010-12-01 08:26:00       3.39     17850.0  United Kingdom        0  "
      ]
     },
     "execution_count": 54,
     "metadata": {},
     "output_type": "execute_result"
    }
   ],
   "source": [
    "train=train.assign(isChurn=[1 if x in ischurnlis else 0 for x in train['CustomerID']])\n",
    "train.head()"
   ]
  },
  {
   "cell_type": "code",
   "execution_count": 55,
   "id": "c038df54",
   "metadata": {},
   "outputs": [],
   "source": [
    "#to assigning unique number to country\n",
    "countries_dic={}\n",
    "\n",
    "countries=train['Country'].unique()\n",
    "for i,y in enumerate(countries):\n",
    "    countries_dic[y]=i"
   ]
  },
  {
   "cell_type": "code",
   "execution_count": 56,
   "id": "ab581937",
   "metadata": {},
   "outputs": [
    {
     "data": {
      "text/plain": [
       "array([ 0,  1,  2,  3,  4,  5,  6,  7,  8,  9, 10, 11, 12, 13, 14, 15, 16,\n",
       "       17, 18, 19, 20, 21, 22, 23, 24, 25, 26, 27, 28, 29, 30, 31, 32, 33,\n",
       "       34, 35], dtype=int64)"
      ]
     },
     "execution_count": 56,
     "metadata": {},
     "output_type": "execute_result"
    }
   ],
   "source": [
    "train['Country']=[countries_dic[x] for x in train['Country']]\n",
    "train['Country'].unique()"
   ]
  },
  {
   "cell_type": "code",
   "execution_count": 57,
   "id": "8f7e364f",
   "metadata": {},
   "outputs": [
    {
     "name": "stderr",
     "output_type": "stream",
     "text": [
      "C:\\Users\\Guru\\AppData\\Local\\Temp\\ipykernel_5768\\3240662381.py:2: FutureWarning: The default value of regex will change from True to False in a future version.\n",
      "  train['StockCode']=train['StockCode'].str.replace('\\D', '')\n"
     ]
    }
   ],
   "source": [
    "#replacing '\\D' with '' for StockCode column\n",
    "train['StockCode']=train['StockCode'].str.replace('\\D', '')"
   ]
  },
  {
   "cell_type": "code",
   "execution_count": 58,
   "id": "934dfaba",
   "metadata": {},
   "outputs": [],
   "source": [
    "train=train[train['StockCode']!='']\n",
    "train['StockCode'] = train['StockCode'].fillna(0)\n",
    "train['StockCode']=train['StockCode'].astype(int)"
   ]
  },
  {
   "cell_type": "code",
   "execution_count": 59,
   "id": "6e04ff49",
   "metadata": {},
   "outputs": [],
   "source": [
    "#feature creation \n",
    "#date is also a feature\n",
    "#dropping irrelevant columns\n",
    "train['month']=train['InvoiceDate'].dt.month.astype(int)\n",
    "train['year']=train['InvoiceDate'].dt.year.astype(int)\n",
    "train['day']=train['InvoiceDate'].dt.day.astype(int)\n",
    "train['hour']=train['InvoiceDate'].dt.hour.astype(int)\n",
    "\n",
    "train=train.drop(['InvoiceDate'],axis=1)\n",
    "train=train.drop(['Description'],axis=1)\n",
    "train=train.drop(['InvoiceNo'],axis=1)"
   ]
  },
  {
   "cell_type": "code",
   "execution_count": 61,
   "id": "2907be18",
   "metadata": {},
   "outputs": [
    {
     "data": {
      "text/html": [
       "<div>\n",
       "<style scoped>\n",
       "    .dataframe tbody tr th:only-of-type {\n",
       "        vertical-align: middle;\n",
       "    }\n",
       "\n",
       "    .dataframe tbody tr th {\n",
       "        vertical-align: top;\n",
       "    }\n",
       "\n",
       "    .dataframe thead th {\n",
       "        text-align: right;\n",
       "    }\n",
       "</style>\n",
       "<table border=\"1\" class=\"dataframe\">\n",
       "  <thead>\n",
       "    <tr style=\"text-align: right;\">\n",
       "      <th></th>\n",
       "      <th>StockCode</th>\n",
       "      <th>Quantity</th>\n",
       "      <th>UnitPrice</th>\n",
       "      <th>CustomerID</th>\n",
       "      <th>Country</th>\n",
       "      <th>isChurn</th>\n",
       "      <th>month</th>\n",
       "      <th>year</th>\n",
       "      <th>day</th>\n",
       "      <th>hour</th>\n",
       "    </tr>\n",
       "  </thead>\n",
       "  <tbody>\n",
       "    <tr>\n",
       "      <th>0</th>\n",
       "      <td>85123</td>\n",
       "      <td>6.0</td>\n",
       "      <td>2.55</td>\n",
       "      <td>17850.0</td>\n",
       "      <td>0</td>\n",
       "      <td>0</td>\n",
       "      <td>12</td>\n",
       "      <td>2010</td>\n",
       "      <td>1</td>\n",
       "      <td>8</td>\n",
       "    </tr>\n",
       "    <tr>\n",
       "      <th>1</th>\n",
       "      <td>0</td>\n",
       "      <td>6.0</td>\n",
       "      <td>3.39</td>\n",
       "      <td>17850.0</td>\n",
       "      <td>0</td>\n",
       "      <td>0</td>\n",
       "      <td>12</td>\n",
       "      <td>2010</td>\n",
       "      <td>1</td>\n",
       "      <td>8</td>\n",
       "    </tr>\n",
       "    <tr>\n",
       "      <th>2</th>\n",
       "      <td>84406</td>\n",
       "      <td>8.0</td>\n",
       "      <td>2.75</td>\n",
       "      <td>17850.0</td>\n",
       "      <td>0</td>\n",
       "      <td>0</td>\n",
       "      <td>12</td>\n",
       "      <td>2010</td>\n",
       "      <td>1</td>\n",
       "      <td>8</td>\n",
       "    </tr>\n",
       "    <tr>\n",
       "      <th>3</th>\n",
       "      <td>84029</td>\n",
       "      <td>6.0</td>\n",
       "      <td>3.39</td>\n",
       "      <td>17850.0</td>\n",
       "      <td>0</td>\n",
       "      <td>0</td>\n",
       "      <td>12</td>\n",
       "      <td>2010</td>\n",
       "      <td>1</td>\n",
       "      <td>8</td>\n",
       "    </tr>\n",
       "    <tr>\n",
       "      <th>4</th>\n",
       "      <td>84029</td>\n",
       "      <td>6.0</td>\n",
       "      <td>3.39</td>\n",
       "      <td>17850.0</td>\n",
       "      <td>0</td>\n",
       "      <td>0</td>\n",
       "      <td>12</td>\n",
       "      <td>2010</td>\n",
       "      <td>1</td>\n",
       "      <td>8</td>\n",
       "    </tr>\n",
       "  </tbody>\n",
       "</table>\n",
       "</div>"
      ],
      "text/plain": [
       "   StockCode  Quantity  UnitPrice  CustomerID  Country  isChurn  month  year  \\\n",
       "0      85123       6.0       2.55     17850.0        0        0     12  2010   \n",
       "1          0       6.0       3.39     17850.0        0        0     12  2010   \n",
       "2      84406       8.0       2.75     17850.0        0        0     12  2010   \n",
       "3      84029       6.0       3.39     17850.0        0        0     12  2010   \n",
       "4      84029       6.0       3.39     17850.0        0        0     12  2010   \n",
       "\n",
       "   day  hour  \n",
       "0    1     8  \n",
       "1    1     8  \n",
       "2    1     8  \n",
       "3    1     8  \n",
       "4    1     8  "
      ]
     },
     "execution_count": 61,
     "metadata": {},
     "output_type": "execute_result"
    }
   ],
   "source": [
    "train.head()"
   ]
  },
  {
   "cell_type": "code",
   "execution_count": 63,
   "id": "cb83ffa9",
   "metadata": {},
   "outputs": [
    {
     "data": {
      "text/plain": [
       "<AxesSubplot:>"
      ]
     },
     "execution_count": 63,
     "metadata": {},
     "output_type": "execute_result"
    },
    {
     "data": {
      "image/png": "[encoded data removed]",
      "text/plain": [
       "<Figure size 432x288 with 2 Axes>"
      ]
     },
     "metadata": {
      "needs_background": "light"
     },
     "output_type": "display_data"
    }
   ],
   "source": [
    "#heatmap for correlation\n",
    "sns.heatmap(train.corr())"
   ]
  },
  {
   "cell_type": "code",
   "execution_count": 64,
   "id": "1e46cdaf",
   "metadata": {},
   "outputs": [
    {
     "data": {
      "text/html": [
       "<div>\n",
       "<style scoped>\n",
       "    .dataframe tbody tr th:only-of-type {\n",
       "        vertical-align: middle;\n",
       "    }\n",
       "\n",
       "    .dataframe tbody tr th {\n",
       "        vertical-align: top;\n",
       "    }\n",
       "\n",
       "    .dataframe thead th {\n",
       "        text-align: right;\n",
       "    }\n",
       "</style>\n",
       "<table border=\"1\" class=\"dataframe\">\n",
       "  <thead>\n",
       "    <tr style=\"text-align: right;\">\n",
       "      <th></th>\n",
       "      <th>StockCode</th>\n",
       "      <th>Quantity</th>\n",
       "      <th>UnitPrice</th>\n",
       "      <th>CustomerID</th>\n",
       "      <th>Country</th>\n",
       "      <th>isChurn</th>\n",
       "      <th>month</th>\n",
       "      <th>year</th>\n",
       "      <th>day</th>\n",
       "      <th>hour</th>\n",
       "    </tr>\n",
       "  </thead>\n",
       "  <tbody>\n",
       "    <tr>\n",
       "      <th>0</th>\n",
       "      <td>3.531062</td>\n",
       "      <td>-0.029790</td>\n",
       "      <td>-0.091041</td>\n",
       "      <td>1.48702</td>\n",
       "      <td>-0.254335</td>\n",
       "      <td>0</td>\n",
       "      <td>2.050745</td>\n",
       "      <td>-2.757747</td>\n",
       "      <td>-1.649149</td>\n",
       "      <td>-2.013723</td>\n",
       "    </tr>\n",
       "    <tr>\n",
       "      <th>1</th>\n",
       "      <td>-0.306431</td>\n",
       "      <td>-0.029790</td>\n",
       "      <td>0.069807</td>\n",
       "      <td>1.48702</td>\n",
       "      <td>-0.254335</td>\n",
       "      <td>0</td>\n",
       "      <td>2.050745</td>\n",
       "      <td>-2.757747</td>\n",
       "      <td>-1.649149</td>\n",
       "      <td>-2.013723</td>\n",
       "    </tr>\n",
       "    <tr>\n",
       "      <th>2</th>\n",
       "      <td>3.498738</td>\n",
       "      <td>-0.020883</td>\n",
       "      <td>-0.052744</td>\n",
       "      <td>1.48702</td>\n",
       "      <td>-0.254335</td>\n",
       "      <td>0</td>\n",
       "      <td>2.050745</td>\n",
       "      <td>-2.757747</td>\n",
       "      <td>-1.649149</td>\n",
       "      <td>-2.013723</td>\n",
       "    </tr>\n",
       "    <tr>\n",
       "      <th>3</th>\n",
       "      <td>3.481743</td>\n",
       "      <td>-0.029790</td>\n",
       "      <td>0.069807</td>\n",
       "      <td>1.48702</td>\n",
       "      <td>-0.254335</td>\n",
       "      <td>0</td>\n",
       "      <td>2.050745</td>\n",
       "      <td>-2.757747</td>\n",
       "      <td>-1.649149</td>\n",
       "      <td>-2.013723</td>\n",
       "    </tr>\n",
       "    <tr>\n",
       "      <th>4</th>\n",
       "      <td>3.481743</td>\n",
       "      <td>-0.029790</td>\n",
       "      <td>0.069807</td>\n",
       "      <td>1.48702</td>\n",
       "      <td>-0.254335</td>\n",
       "      <td>0</td>\n",
       "      <td>2.050745</td>\n",
       "      <td>-2.757747</td>\n",
       "      <td>-1.649149</td>\n",
       "      <td>-2.013723</td>\n",
       "    </tr>\n",
       "  </tbody>\n",
       "</table>\n",
       "</div>"
      ],
      "text/plain": [
       "   StockCode  Quantity  UnitPrice  CustomerID   Country  isChurn     month  \\\n",
       "0   3.531062 -0.029790  -0.091041     1.48702 -0.254335        0  2.050745   \n",
       "1  -0.306431 -0.029790   0.069807     1.48702 -0.254335        0  2.050745   \n",
       "2   3.498738 -0.020883  -0.052744     1.48702 -0.254335        0  2.050745   \n",
       "3   3.481743 -0.029790   0.069807     1.48702 -0.254335        0  2.050745   \n",
       "4   3.481743 -0.029790   0.069807     1.48702 -0.254335        0  2.050745   \n",
       "\n",
       "       year       day      hour  \n",
       "0 -2.757747 -1.649149 -2.013723  \n",
       "1 -2.757747 -1.649149 -2.013723  \n",
       "2 -2.757747 -1.649149 -2.013723  \n",
       "3 -2.757747 -1.649149 -2.013723  \n",
       "4 -2.757747 -1.649149 -2.013723  "
      ]
     },
     "execution_count": 64,
     "metadata": {},
     "output_type": "execute_result"
    }
   ],
   "source": [
    "#normalising the dataset\n",
    "scaler = StandardScaler()\n",
    "train['StockCode']=scaler.fit_transform(train[['StockCode']])\n",
    "train['CustomerID']=scaler.fit_transform(train[['CustomerID']])\n",
    "train['Country']=scaler.fit_transform(train[['Country']])\n",
    "train['Quantity']=scaler.fit_transform(train[['Quantity']])\n",
    "train['UnitPrice']=scaler.fit_transform(train[['UnitPrice']])\n",
    "train['month']=scaler.fit_transform(train[['month']])\n",
    "train['year']=scaler.fit_transform(train[['year']])\n",
    "train['day']=scaler.fit_transform(train[['day']])\n",
    "train['hour']=scaler.fit_transform(train[['hour']])\n",
    "train.head()"
   ]
  },
  {
   "cell_type": "code",
   "execution_count": 66,
   "id": "9338449d",
   "metadata": {},
   "outputs": [],
   "source": [
    "#dropping for training dataset that we will predict later\n",
    "y=train['isChurn']\n",
    "x=train.drop(['isChurn'],axis=1)"
   ]
  },
  {
   "cell_type": "code",
   "execution_count": 67,
   "id": "41d8d33f",
   "metadata": {},
   "outputs": [],
   "source": [
    "X_train,X_test,y_train,y_test = train_test_split(x,y,test_size=0.2,random_state=1)"
   ]
  },
  {
   "cell_type": "code",
   "execution_count": 68,
   "id": "b120fc78",
   "metadata": {},
   "outputs": [
    {
     "data": {
      "text/plain": [
       "DecisionTreeClassifier()"
      ]
     },
     "execution_count": 68,
     "metadata": {},
     "output_type": "execute_result"
    }
   ],
   "source": [
    "#decision tree construction\n",
    "model1=DecisionTreeClassifier()\n",
    "model1.fit(X_train,y_train)"
   ]
  },
  {
   "cell_type": "code",
   "execution_count": 69,
   "id": "3931366b",
   "metadata": {},
   "outputs": [],
   "source": [
    "y_pred = model1.predict(X_test)"
   ]
  },
  {
   "cell_type": "code",
   "execution_count": 70,
   "id": "40c2ab3d",
   "metadata": {},
   "outputs": [
    {
     "name": "stdout",
     "output_type": "stream",
     "text": [
      "              precision    recall  f1-score   support\n",
      "\n",
      "           0       0.98      0.98      0.98      8800\n",
      "           1       1.00      1.00      1.00     37226\n",
      "\n",
      "    accuracy                           0.99     46026\n",
      "   macro avg       0.99      0.99      0.99     46026\n",
      "weighted avg       0.99      0.99      0.99     46026\n",
      "\n"
     ]
    }
   ],
   "source": [
    "#evaluation using classification report\n",
    "print(classification_report(y_test, y_pred))"
   ]
  },
  {
   "cell_type": "code",
   "execution_count": 71,
   "id": "b737bebd",
   "metadata": {},
   "outputs": [
    {
     "name": "stdout",
     "output_type": "stream",
     "text": [
      "[LibLinear]"
     ]
    },
    {
     "name": "stderr",
     "output_type": "stream",
     "text": [
      "C:\\Users\\Guru\\anaconda3\\lib\\site-packages\\sklearn\\svm\\_base.py:1206: ConvergenceWarning: Liblinear failed to converge, increase the number of iterations.\n",
      "  warnings.warn(\n"
     ]
    },
    {
     "data": {
      "text/plain": [
       "LinearSVC(verbose=True)"
      ]
     },
     "execution_count": 71,
     "metadata": {},
     "output_type": "execute_result"
    }
   ],
   "source": [
    "#svm implementation\n",
    "model2=LinearSVC(max_iter=1000,verbose=True)\n",
    "model2.fit(X_train,y_train)"
   ]
  },
  {
   "cell_type": "code",
   "execution_count": 72,
   "id": "bcef0dcf",
   "metadata": {},
   "outputs": [],
   "source": [
    "y_pred = model2.predict(X_test)"
   ]
  },
  {
   "cell_type": "code",
   "execution_count": 73,
   "id": "48d7bb98",
   "metadata": {},
   "outputs": [
    {
     "name": "stdout",
     "output_type": "stream",
     "text": [
      "              precision    recall  f1-score   support\n",
      "\n",
      "           0       0.43      0.00      0.00      8800\n",
      "           1       0.81      1.00      0.89     37226\n",
      "\n",
      "    accuracy                           0.81     46026\n",
      "   macro avg       0.62      0.50      0.45     46026\n",
      "weighted avg       0.74      0.81      0.72     46026\n",
      "\n"
     ]
    }
   ],
   "source": [
    "print(classification_report(y_test, y_pred))"
   ]
  },
  {
   "cell_type": "code",
   "execution_count": 74,
   "id": "17aecccb",
   "metadata": {},
   "outputs": [
    {
     "name": "stdout",
     "output_type": "stream",
     "text": [
      "Iteration 1, loss = 0.49077158\n",
      "Iteration 2, loss = 0.47558890\n",
      "Iteration 3, loss = 0.47297486\n",
      "Iteration 4, loss = 0.47116611\n",
      "Iteration 5, loss = 0.46962070\n",
      "Iteration 6, loss = 0.46805762\n",
      "Iteration 7, loss = 0.46673145\n",
      "Iteration 8, loss = 0.46536265\n",
      "Iteration 9, loss = 0.46435091\n",
      "Iteration 10, loss = 0.46309556\n",
      "Iteration 11, loss = 0.46241482\n",
      "Iteration 12, loss = 0.46116626\n",
      "Iteration 13, loss = 0.46042780\n",
      "Iteration 14, loss = 0.45956248\n",
      "Iteration 15, loss = 0.45888243\n",
      "Iteration 16, loss = 0.45811361\n",
      "Iteration 17, loss = 0.45744399\n",
      "Iteration 18, loss = 0.45675290\n",
      "Iteration 19, loss = 0.45617188\n",
      "Iteration 20, loss = 0.45569215\n",
      "Iteration 21, loss = 0.45504111\n",
      "Iteration 22, loss = 0.45477916\n",
      "Iteration 23, loss = 0.45440451\n",
      "Iteration 24, loss = 0.45392697\n",
      "Iteration 25, loss = 0.45344071\n",
      "Iteration 26, loss = 0.45285104\n",
      "Iteration 27, loss = 0.45275992\n",
      "Iteration 28, loss = 0.45211342\n",
      "Iteration 29, loss = 0.45177883\n",
      "Iteration 30, loss = 0.45131454\n",
      "Iteration 31, loss = 0.45085958\n",
      "Iteration 32, loss = 0.45069955\n",
      "Iteration 33, loss = 0.45003824\n",
      "Iteration 34, loss = 0.44994660\n",
      "Iteration 35, loss = 0.44959884\n",
      "Iteration 36, loss = 0.44946027\n",
      "Iteration 37, loss = 0.44895403\n",
      "Iteration 38, loss = 0.44875601\n",
      "Iteration 39, loss = 0.44848185\n",
      "Iteration 40, loss = 0.44824339\n",
      "Iteration 41, loss = 0.44776614\n",
      "Iteration 42, loss = 0.44777249\n",
      "Iteration 43, loss = 0.44716678\n",
      "Iteration 44, loss = 0.44718016\n",
      "Iteration 45, loss = 0.44704313\n",
      "Iteration 46, loss = 0.44640041\n",
      "Iteration 47, loss = 0.44627270\n",
      "Iteration 48, loss = 0.44598430\n",
      "Iteration 49, loss = 0.44537941\n",
      "Iteration 50, loss = 0.44519587\n",
      "Iteration 51, loss = 0.44490512\n",
      "Iteration 52, loss = 0.44465276\n",
      "Iteration 53, loss = 0.44471651\n",
      "Iteration 54, loss = 0.44416298\n",
      "Iteration 55, loss = 0.44393628\n",
      "Iteration 56, loss = 0.44349631\n",
      "Iteration 57, loss = 0.44331198\n",
      "Iteration 58, loss = 0.44303280\n",
      "Iteration 59, loss = 0.44273451\n",
      "Iteration 60, loss = 0.44261030\n",
      "Iteration 61, loss = 0.44189648\n",
      "Iteration 62, loss = 0.44197639\n",
      "Iteration 63, loss = 0.44192453\n",
      "Iteration 64, loss = 0.44168451\n",
      "Iteration 65, loss = 0.44117281\n",
      "Iteration 66, loss = 0.44103646\n",
      "Iteration 67, loss = 0.44072008\n",
      "Iteration 68, loss = 0.44081300\n",
      "Iteration 69, loss = 0.44082193\n",
      "Iteration 70, loss = 0.44060873\n",
      "Iteration 71, loss = 0.43986313\n",
      "Iteration 72, loss = 0.43967365\n",
      "Iteration 73, loss = 0.43980213\n",
      "Iteration 74, loss = 0.43948506\n",
      "Iteration 75, loss = 0.43921167\n",
      "Iteration 76, loss = 0.43902871\n",
      "Iteration 77, loss = 0.43929646\n",
      "Iteration 78, loss = 0.43862589\n",
      "Iteration 79, loss = 0.43831729\n",
      "Iteration 80, loss = 0.43869996\n",
      "Iteration 81, loss = 0.43810794\n",
      "Iteration 82, loss = 0.43844364\n",
      "Iteration 83, loss = 0.43799798\n",
      "Iteration 84, loss = 0.43804018\n",
      "Iteration 85, loss = 0.43770107\n",
      "Iteration 86, loss = 0.43728135\n",
      "Iteration 87, loss = 0.43781581\n",
      "Iteration 88, loss = 0.43740832\n",
      "Iteration 89, loss = 0.43757607\n",
      "Iteration 90, loss = 0.43698632\n",
      "Iteration 91, loss = 0.43712707\n",
      "Iteration 92, loss = 0.43703315\n",
      "Iteration 93, loss = 0.43695077\n",
      "Iteration 94, loss = 0.43659920\n",
      "Iteration 95, loss = 0.43668390\n",
      "Iteration 96, loss = 0.43622017\n",
      "Iteration 97, loss = 0.43609780\n",
      "Iteration 98, loss = 0.43617436\n",
      "Iteration 99, loss = 0.43638604\n",
      "Iteration 100, loss = 0.43579669\n"
     ]
    },
    {
     "name": "stderr",
     "output_type": "stream",
     "text": [
      "C:\\Users\\Guru\\anaconda3\\lib\\site-packages\\sklearn\\neural_network\\_multilayer_perceptron.py:692: ConvergenceWarning: Stochastic Optimizer: Maximum iterations (100) reached and the optimization hasn't converged yet.\n",
      "  warnings.warn(\n"
     ]
    },
    {
     "data": {
      "text/plain": [
       "MLPClassifier(max_iter=100, verbose=True)"
      ]
     },
     "execution_count": 74,
     "metadata": {},
     "output_type": "execute_result"
    }
   ],
   "source": [
    "#ann implementation \n",
    "model3=MLPClassifier(max_iter=100,verbose=True)\n",
    "model3.fit(X_train,y_train)"
   ]
  },
  {
   "cell_type": "code",
   "execution_count": 75,
   "id": "1ecc390e",
   "metadata": {},
   "outputs": [],
   "source": [
    "y_pred = model3.predict(X_test)"
   ]
  },
  {
   "cell_type": "code",
   "execution_count": 76,
   "id": "8f744f1c",
   "metadata": {},
   "outputs": [
    {
     "name": "stdout",
     "output_type": "stream",
     "text": [
      "              precision    recall  f1-score   support\n",
      "\n",
      "           0       0.79      0.08      0.14      8800\n",
      "           1       0.82      1.00      0.90     37226\n",
      "\n",
      "    accuracy                           0.82     46026\n",
      "   macro avg       0.81      0.54      0.52     46026\n",
      "weighted avg       0.81      0.82      0.75     46026\n",
      "\n"
     ]
    }
   ],
   "source": [
    "print(classification_report(y_test, y_pred))"
   ]
  }
 ],
 "metadata": {
  "kernelspec": {
   "display_name": "Python 3.10.2 64-bit",
   "language": "python",
   "name": "python3"
  },
  "language_info": {
   "codemirror_mode": {
    "name": "ipython",
    "version": 3
   },
   "file_extension": ".py",
   "mimetype": "text/x-python",
   "name": "python",
   "nbconvert_exporter": "python",
   "pygments_lexer": "ipython3",
   "version": "3.10.2"
  },
  "vscode": {
   "interpreter": {
    "hash": "369f2c481f4da34e4445cda3fffd2e751bd1c4d706f27375911949ba6bb62e1c"
   }
  }
 },
 "nbformat": 4,
 "nbformat_minor": 5
}
